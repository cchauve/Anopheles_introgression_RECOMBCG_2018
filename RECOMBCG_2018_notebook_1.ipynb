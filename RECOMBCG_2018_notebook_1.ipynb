{
 "cells": [
  {
   "cell_type": "markdown",
   "metadata": {},
   "source": [
    "# Detecting introgression in Anopheles mosquito genomes using a reconciliation-based approach\n",
    "## Notebook 1: HGTs and introgression events\n",
    "\n",
    "## Cedric Chauve, Jingxue Feng,  Liangliang Wang\n",
    "### Departments of Mathematics and Statistics, Simon Fraser University\n",
    "#### Contact: cedric.chauve@sfu.ca\n",
    "#### Date: August 2nd, 2018"
   ]
  },
  {
   "cell_type": "code",
   "execution_count": 1,
   "metadata": {},
   "outputs": [
    {
     "data": {
      "text/html": [
       "<script>\n",
       "code_show=true; \n",
       "function code_toggle() {\n",
       " if (code_show){\n",
       " $('div.input').hide();\n",
       " } else {\n",
       " $('div.input').show();\n",
       " }\n",
       " code_show = !code_show\n",
       "} \n",
       "$( document ).ready(code_toggle);\n",
       "</script>\n",
       "The raw code for this IPython notebook is by default hidden for easier reading.\n",
       "To toggle on/off the raw code, click <a href=\"javascript:code_toggle()\">here</a>."
      ],
      "text/plain": [
       "<IPython.core.display.HTML object>"
      ]
     },
     "execution_count": 1,
     "metadata": {},
     "output_type": "execute_result"
    }
   ],
   "source": [
    "from IPython.display import HTML\n",
    "HTML('''<script>\n",
    "code_show=true; \n",
    "function code_toggle() {\n",
    " if (code_show){\n",
    " $('div.input').hide();\n",
    " } else {\n",
    " $('div.input').show();\n",
    " }\n",
    " code_show = !code_show\n",
    "} \n",
    "$( document ).ready(code_toggle);\n",
    "</script>\n",
    "The raw code for this IPython notebook is by default hidden for easier reading.\n",
    "To toggle on/off the raw code, click <a href=\"javascript:code_toggle()\">here</a>.''')"
   ]
  },
  {
   "cell_type": "markdown",
   "metadata": {},
   "source": [
    "## Preamble\n",
    "This notebook contains the code required to generate the figures related to inferred Horizontal Gene Transfers (HGT) and introgression events for the paper *Detecting introgression in Anopheles mosquito genomes using a reconciliation-based approach*, published in the proceedings of RECOMB-CG 2018."
   ]
  },
  {
   "cell_type": "code",
   "execution_count": 2,
   "metadata": {},
   "outputs": [],
   "source": [
    "import pandas as pd\n",
    "import numpy as np\n",
    "import matplotlib.pyplot as plt\n",
    "\n",
    "# AUXILIARY FUNCTIONS\n",
    "\n",
    "# Reading orthogroups data and creating a data frame\n",
    "# Remark: in this notebook we use equivalently orthogroup and family\n",
    "# Output: a pair (GENES,OG) of data frames:\n",
    "# - GENES = 'species', 'chr', 'sign', 'start', 'end', 'orthogroup'\n",
    "# - OG = columns indexed by species (number of genes of the orthogroup per species)\n",
    "def read_orthogroups(FILE):\n",
    "    # FILE = path to the orthogroups file\n",
    "    \n",
    "    OG_file = open(FILE,'r').readlines()\n",
    "    GENES_AUX = {}  # Array of genes\n",
    "    OG_AUX = {}     # Array of orthogroups\n",
    "    for l in OG_file:\n",
    "        # reading gene data\n",
    "        if l[0]!=\"#\":\n",
    "            gene = l.rstrip().split()\n",
    "            # AGAMB\t2L\tEOG091709JI\tAGAP004680\t+\t271285\t271815\t1\t271285-271815\n",
    "            (species,chr,og,name,sign,start,end) = (gene[0],gene[1],gene[2],gene[3],gene[4],int(gene[5]),int(gene[6]))\n",
    "            # Populating data structures\n",
    "            GENES_AUX[name] = (species,chr,sign,start,end,og)\n",
    "            # Last three parameters: kept after MrBayes, kept after ALE, kept after post-ALE selection\n",
    "            OG_AUX[og] = {}\n",
    "    # Data frame for genes\n",
    "    GENES = pd.DataFrame.transpose(pd.DataFrame(GENES_AUX))\n",
    "    GENES.columns=['species', 'chr', 'sign', 'start', 'end', 'orthogroup']\n",
    "    # Data frame for orthogroups\n",
    "    for og in OG_AUX.keys():\n",
    "        OG_AUX[og]={s: False for s in SPECIES_ALL}\n",
    "    for g in GENES_AUX.keys():\n",
    "        og = GENES_AUX[g][5]\n",
    "        s  = GENES_AUX[g][0]\n",
    "        OG_AUX[og][s]=True\n",
    "    OG = pd.DataFrame.transpose(pd.DataFrame(OG_AUX))\n",
    "    OG.columns = SPECIES_ALL\n",
    "    return((GENES,OG))\n",
    "\n",
    "# Generating plots figures of the distribution of genome size (number of genes) and family size\n",
    "def generate_images(DF,F1,F2):\n",
    "    # DF  = orthogroups dataframe\n",
    "    # F1  = path to the output file for the figure on the number of genes per genomes\n",
    "    # F2  = path to the output file for the figure on the number of genes per family\n",
    "    \n",
    "    NBF = len(DF.orthogroup.unique()) # Number of families\n",
    "    NBG = len(DF) # Number of genes\n",
    "    \n",
    "    genome_sizes = pd.DataFrame({'count' : DF.groupby('species').size()}) \n",
    "    pltsgen_size = genome_sizes.plot(kind='bar',legend=None, grid=True, figsize=(10,5), fontsize=12)\n",
    "    pltsgen_size.set_xlabel('species', fontsize=14)\n",
    "    pltsgen_size.set_ylabel('number of genes', fontsize=14)\n",
    "    pltsgen_size.set_title('Genome size distribution (#genes='+str(NBG)+')', fontsize=14)\n",
    "    plt.tight_layout()\n",
    "    plt.savefig(F1) \n",
    "    \n",
    "    family_sizes_aux = pd.DataFrame({'count' : DF.groupby('orthogroup').size()}).reset_index() \n",
    "    family_sizes_aux.columns = ['orthogroup','size']\n",
    "    family_sizes = pd.DataFrame({'count' : family_sizes_aux.groupby('size').size()})\n",
    "    pltfam_size = family_sizes.plot(kind='bar',legend=None, grid=True, figsize=(10,5), fontsize=12)\n",
    "    pltfam_size.set_xlabel('family size', fontsize=14)\n",
    "    pltfam_size.set_ylabel('number of families', fontsize=14)\n",
    "    pltfam_size.set_title('Family size distribution (#families='+str(NBF)+')', fontsize=14)\n",
    "    plt.tight_layout()\n",
    "    plt.savefig(F2) \n",
    "    \n",
    "    \n",
    "# Reading the MrBayes Summary file  filtered to keep only families with\n",
    "# at least S MrBayes samples and RF distance at most RF between the amalgamated\n",
    "# reconciled gene trees computed by ALE using the two runs of MrBayes\n",
    "# Output: data frame indexed by orthogroup: 'orthogroup','samples','RF'\n",
    "def read_MrB_ALE_summary(FILE,S,RF):\n",
    "    # FILE = path to the MrBayes+ALE summary file\n",
    "    # S = minimum number of samples to keep a family\n",
    "    # RF = maximum normalized Robinson-Foulds distance between the two trees\n",
    "    \n",
    "    MRB_file = open(FILE,'r').readlines()\n",
    "    MRB_AUX={}\n",
    "    for l in MRB_file: \n",
    "        # reading family data\n",
    "        if l[0]!=\"#\":\n",
    "            family = l.rstrip().split()\n",
    "            #  EOG09170001 18990 17 17 0.00000\n",
    "            og = family[0]\n",
    "            (samples,rf) = (int(family[1]),float(family[4]))\n",
    "            # Populating data structures\n",
    "            MRB_AUX[og] = (samples,rf)\n",
    "        \n",
    "    # Data frame from the whole summary file\n",
    "    MRB_1 = pd.DataFrame.from_dict(MRB_AUX, orient='index').reset_index().fillna(0)\n",
    "    MRB_1.columns=['orthogroup','samples','RF']\n",
    "    # Filtering for K\n",
    "    MRB_2 = MRB_1.loc[MRB_1['samples'] >= S]\n",
    "    MRB_3 = MRB_2.loc[MRB_2['RF'] <= RF]\n",
    "    return(MRB_3)\n",
    "\n",
    "# Extracting the HGTs from the selected orthogroups and storing in a file suffixed by \"FILTERED\"\n",
    "def filter_HGT(FILE,OG,OUTPUT):\n",
    "    # FILE = path to the ALE HGT summary file\n",
    "    # OG = orthogroups data frame\n",
    "    # OUTPUT = output file\n",
    "    HGT_file = open(FILE,'r').readlines()\n",
    "    NB_TRANSFERS_PRE_FILTERING = len(HGT_file) \n",
    "    HGT_filtered_file = open(OUTPUT,'w')\n",
    "    NB_TRANSFERS_POST_FILTERING=0\n",
    "    HGT_AUX={}\n",
    "    for l in HGT_file: \n",
    "        if l[0]!=\"#\":\n",
    "            l1 = l.rstrip().split()\n",
    "            og = l1[0]\n",
    "            if og in OG:\n",
    "                NB_TRANSFERS_POST_FILTERING+=1\n",
    "                HGT_filtered_file.write(l)\n",
    "        else:\n",
    "            HGT_filtered_file.write(l)\n",
    "    HGT_filtered_file.close()\n",
    "    return((NB_TRANSFERS_PRE_FILTERING,NB_TRANSFERS_POST_FILTERING))\n",
    "\n",
    "# Reading a transfers file to create a data frame of transfers with frequency >= F for both runs\n",
    "# Output: data frame 'orthogroup','donor_receptor','frequency' where donor_receptor is an ordered pair of species\n",
    "def read_HGT(FILE,F):\n",
    "    # FILE = path to the ALE HGT summary file\n",
    "    # F = minimum frequency to keep a HGT\n",
    "    \n",
    "    HGT_file = open(FILE,'r').readlines()\n",
    "    HGT_AUX={}\n",
    "    for l in HGT_file: \n",
    "        # reading HGT data\n",
    "        if l[0]!=\"#\":\n",
    "            l1 = l.rstrip().split()\n",
    "            (og,run,donor,receptor,freq)=(l1[0],l1[1],l1[2],l1[3],float(l1[4]))\n",
    "            if freq>=F:\n",
    "                HGT_AUX[(og,donor,receptor,run)]=freq                \n",
    "    # Creating the final structure with a mean of the frequencies                    \n",
    "    index=0\n",
    "    HGT_ALL_AUX = {}\n",
    "    for (og,donor,receptor,run) in HGT_AUX.keys():\n",
    "        if run=='run1':\n",
    "            freq1 = HGT_AUX[(og,donor,receptor,'run1')]\n",
    "            freq2 = HGT_AUX[(og,donor,receptor,'run2')]\n",
    "            if freq1>0 and freq2>0:\n",
    "                HGT_ALL_AUX[index] = (og,(donor,receptor),np.mean([freq1,freq2]))\n",
    "                index+=1\n",
    "     # Creating data frames\n",
    "    HGT_ALL         = pd.DataFrame.from_dict(HGT_ALL_AUX, orient='index')\n",
    "    HGT_ALL.columns = ['orthogroup','donor_receptor','frequency']               \n",
    "    return(HGT_ALL)\n",
    "\n",
    "# Reading MaxTiC constraints\n",
    "def read_constraints(FILE):\n",
    "    # FILE = path to the MaxTiC constraints file\n",
    "    FF = open(FILE,'r').readlines()\n",
    "    w = 0.0\n",
    "    n = 0\n",
    "    for l in FF:\n",
    "        if l[0]!='0':\n",
    "            l1=l.rstrip().split()\n",
    "            l2=l1[0].split(',')\n",
    "            n += 1\n",
    "            o = l2[0]# older species\n",
    "            y = l2[1]# younger species\n",
    "            w += float(l1[1])# weight\n",
    "    return((n,w))\n",
    "\n",
    "# Aggregating the HGTs per introgression event\n",
    "def aggregate_HGT(HGT):\n",
    "    # HGT = HGT data frame\n",
    "    HGT_AGG_AUX1 = HGT.groupby('donor_receptor')['frequency'].sum().reset_index()\n",
    "    HGT_AGG_AUX2 = HGT.groupby('donor_receptor')['frequency'].size().reset_index()\n",
    "    HGT_AGG = HGT_AGG_AUX1.merge(HGT_AGG_AUX2, left_on='donor_receptor', right_on='donor_receptor')\n",
    "    HGT_AGG.columns=['donor_receptor','frequency','number']\n",
    "    return(HGT_AGG)\n",
    "\n",
    "# Filtering introgression events to have support by at least N families and CF cumulated requency\n",
    "def filter_introgression(HGT_AGG,N,CF,IMG):\n",
    "    # HGT_AGG = aggregaterd HGT data frame\n",
    "    # N, CF = see comment above\n",
    "    # IMG = generated image of the summary of introgression events\n",
    "    HGT_AGG_F1 = HGT_AGG[HGT_AGG['number']>=N]\n",
    "    HGT_AGG_F2 = HGT_AGG_F1[HGT_AGG_F1['frequency']>=CF]\n",
    "    HGT_AGG_F2.sort_values(by='number',ascending=False).plot(kind='bar', x='donor_receptor', grid=True, figsize=(10,5), fontsize=10)\n",
    "    plt.tight_layout()\n",
    "    plt.savefig(IMG)\n",
    "    return(HGT_AGG_F2)\n",
    "\n",
    "# Extracting the families involved in a given event (DONOR,RECEPTOR) and their size\n",
    "# Creates a data frame 'frequency','nb_species','gambia_sp','outg_sp','asian_sp'\n",
    "# Creates a CSV file output/files/'+DONOR+'_'+RECEPTOR+'_'+SUFFIX\n",
    "def extract_introg_event_families(HGT,OG,DONOR,RECEPTOR,SUFFIX):\n",
    "    HGT_SPECIFIC    = HGT.loc[HGT['donor_receptor']==(DONOR,RECEPTOR)]\n",
    "    OG_SPECIFIC_AUX = {}\n",
    "    for idx, row in HGT_SPECIFIC.iterrows():\n",
    "        og      = row['orthogroup']\n",
    "        freq    = row['frequency']\n",
    "        species = OG.loc[og]\n",
    "        nb_species     = 0\n",
    "        nb_gambia_sp   = 0\n",
    "        nb_outgroup_sp = 0\n",
    "        nb_asian_sp    = 0\n",
    "        for s in SPECIES_ALL:\n",
    "            if species.loc[s]==True:\n",
    "                nb_species+=1\n",
    "        for s in SPECIES_GAMBIA:\n",
    "            if species.loc[s]==True:\n",
    "                nb_gambia_sp+=1\n",
    "        for s in SPECIES_OUTGROUPS:\n",
    "            if species.loc[s]==True:\n",
    "                nb_outgroup_sp+=1\n",
    "        for s in SPECIES_ASIANS:\n",
    "            if species.loc[s]==True:\n",
    "                nb_asian_sp+=1\n",
    "        OG_SPECIFIC_AUX[og]=(freq,nb_species,nb_gambia_sp,nb_outgroup_sp,nb_asian_sp)\n",
    "    OG_SPECIFIC = pd.DataFrame.from_dict(OG_SPECIFIC_AUX,orient='index')\n",
    "    OG_SPECIFIC.columns = ['frequency','nb_species','gambia_sp','outg_sp','asian_sp']\n",
    "    OG_SPECIFIC.to_csv('output/files/'+DONOR+'_'+RECEPTOR+'_'+SUFFIX, mode ='w', header = False, index = True, sep='\\t')\n",
    "    return(OG_SPECIFIC)\n",
    "\n",
    "# Show support for specific introgression events\n",
    "def show_support(EVENTS,OG_EVENT,HEADER):\n",
    "    print('#'+HEADER)\n",
    "    print('#donor\\trec.\\t#HGTs\\tavgFreq\\tcovAll\\tcovGamb\\tcovOutg\\tcovAsian')\n",
    "    for (X,Y) in  EVENTS:\n",
    "        TAB = OG_EVENT[(X,Y)]\n",
    "        COVERAGE  = round(TAB['nb_species'].mean(),3)\n",
    "        COV_GAMB  = round(TAB['gambia_sp'].mean(),3)\n",
    "        COV_OUTG  = round(TAB['outg_sp'].mean(),3)\n",
    "        COV_ASIA  = round(TAB['asian_sp'].mean(),3)\n",
    "        FREQUENCY = round(TAB['frequency'].mean(),3)\n",
    "        NB_HGT    = len(TAB)\n",
    "        print(X+'\\t'+Y+'\\t'+str(NB_HGT)+'\\t'+str(FREQUENCY)+'\\t'+str(COVERAGE)+'\\t'+str(COV_GAMB)+'\\t'+str(COV_OUTG)+'\\t'+str(COV_ASIA))"
   ]
  },
  {
   "cell_type": "markdown",
   "metadata": {},
   "source": [
    "### Data: species and orthogroups"
   ]
  },
  {
   "cell_type": "code",
   "execution_count": 3,
   "metadata": {},
   "outputs": [],
   "source": [
    "# DATA: Species \n",
    "# Remark: the species names follow the convention described in the paper.\n",
    "SPECIES_GAMBIA    = ['AGAMB','ACOLU','AARAB','AQUAD','AMERU','AMELA']# Gambiae complex\n",
    "SPECIES_OUTGROUPS = ['ACHRI','AEPIR']# Outgroups to the Gambiae complex\n",
    "SPECIES_ASIANS    = ['AMINI','ACULI','AFUNE','ASTES','ASTEI','AMACU']# Asian mosquitoes+An funestus\n",
    "SPECIES_ALL       = SPECIES_GAMBIA+SPECIES_OUTGROUPS+SPECIES_ASIANS"
   ]
  },
  {
   "cell_type": "code",
   "execution_count": 4,
   "metadata": {},
   "outputs": [],
   "source": [
    "# Reading orthogroups data\n",
    "(GENES,ORTHOGROUPS) = read_orthogroups('input/ORTHOGROUPS_ODB9')"
   ]
  },
  {
   "cell_type": "markdown",
   "metadata": {},
   "source": [
    "### Figure 2: genome size (number of genes) and orthogroup size distribution for all orthogroups"
   ]
  },
  {
   "cell_type": "code",
   "execution_count": 5,
   "metadata": {
    "scrolled": true
   },
   "outputs": [
    {
     "data": {
      "image/png": "[encoded data removed]",
      "text/plain": [
       "<Figure size 720x360 with 1 Axes>"
      ]
     },
     "metadata": {},
     "output_type": "display_data"
    },
    {
     "data": {
      "image/png": "[encoded data removed]",
      "text/plain": [
       "<Figure size 720x360 with 1 Axes>"
      ]
     },
     "metadata": {},
     "output_type": "display_data"
    }
   ],
   "source": [
    "generate_images(GENES,'output/images/genome_sizes.png','output/images/family_sizes.png')"
   ]
  },
  {
   "cell_type": "markdown",
   "metadata": {},
   "source": [
    "Results: files output/images/genome_sizes.png and output/images/family_sizes.png\n",
    "\n",
    "<center><img src=\"output/images/genome_sizes.png\" width=700px></center>\n",
    "\n",
    "<center><img src=\"output/images/family_sizes.png\" width=700px></center>"
   ]
  },
  {
   "cell_type": "markdown",
   "metadata": {},
   "source": [
    "### Results of MrBayes\n",
    "We compute the number of samples per orthogroups generated by MrBayes (minimum number over the two runs)."
   ]
  },
  {
   "cell_type": "code",
   "execution_count": 6,
   "metadata": {},
   "outputs": [
    {
     "data": {
      "image/png": "[encoded data removed]",
      "text/plain": [
       "<Figure size 720x360 with 1 Axes>"
      ]
     },
     "metadata": {},
     "output_type": "display_data"
    }
   ],
   "source": [
    "# Distribution of the number of samples per family\n",
    "MRB_ALL = read_MrB_ALE_summary('input/MrBayes_ALE_summary.txt',1,1000)\n",
    "\n",
    "pltmrb_samples = MRB_ALL.hist(column='samples',bins=20,grid=True,figsize=(10,5))\n",
    "plt.xticks(np.arange(0,21000,1000), rotation=45)\n",
    "plt.xlabel('number of samples', fontsize=14)\n",
    "plt.ylabel('number of families', fontsize=14)\n",
    "plt.title('MrBayes samples)', fontsize=14)\n",
    "plt.tight_layout()\n",
    "plt.savefig('output/images/mrb_samples_ALL.png') "
   ]
  },
  {
   "cell_type": "markdown",
   "metadata": {},
   "source": [
    "Result: output/images/mrb_samples_ALL.png\n",
    "\n",
    "<center><img src=\"output/images/mrb_samples_ALL.png\" width=700px></center>"
   ]
  },
  {
   "cell_type": "markdown",
   "metadata": {},
   "source": [
    "### Filtering outgroups\n",
    "We filter out all outgroups for which MrBayes generated less than 5000 samples in at least one run or for which the Robinson-Foulds distance between the two amalgamated reconciled gene trees is not 0."
   ]
  },
  {
   "cell_type": "code",
   "execution_count": 7,
   "metadata": {},
   "outputs": [],
   "source": [
    "# Selecting the orthogroups with at least 5000 samples and RF distance = 0\n",
    "# Reading the filtered MrBayes+ALE summary\n",
    "MRB_S5000_RF0 = read_MrB_ALE_summary('input/MrBayes_ALE_summary.txt',5000,0)\n",
    "# Selecting the corresponding genes\n",
    "GENES_MRB_S5000_RF0 = GENES.loc[GENES['orthogroup'].isin(MRB_S5000_RF0['orthogroup'].values.tolist())]\n",
    "# Selecting the corresponding orthogroups\n",
    "OG_MRB_S5000_RF0 = GENES_MRB_S5000_RF0['orthogroup'].unique()"
   ]
  },
  {
   "cell_type": "markdown",
   "metadata": {},
   "source": [
    "### Figure 3: orthogroup size distribution for unfiltered orthogroups"
   ]
  },
  {
   "cell_type": "code",
   "execution_count": 8,
   "metadata": {},
   "outputs": [
    {
     "data": {
      "image/png": "[encoded data removed]",
      "text/plain": [
       "<Figure size 720x360 with 1 Axes>"
      ]
     },
     "metadata": {},
     "output_type": "display_data"
    },
    {
     "data": {
      "image/png": "[encoded data removed]",
      "text/plain": [
       "<Figure size 720x360 with 1 Axes>"
      ]
     },
     "metadata": {},
     "output_type": "display_data"
    }
   ],
   "source": [
    "# Plotting statistics\n",
    "generate_images(GENES_MRB_S5000_RF0,'output/images/genome_sizes_mrb_s5000_rf0.png','output/images/family_sizes_mrb_s5000_rf0.png')"
   ]
  },
  {
   "cell_type": "markdown",
   "metadata": {},
   "source": [
    "Result: output/images/family_sizes_mrb_s5000_rf0.png\n",
    "\n",
    "<center><img src=\"output/images/family_sizes_mrb_s5000_rf0.png\" width=700px></center>"
   ]
  },
  {
   "cell_type": "code",
   "execution_count": 9,
   "metadata": {},
   "outputs": [],
   "source": [
    "# Writing the selected genes in a file at the same format than the orthogroups file\n",
    "GENES_MRB_S5000_RF0_FILE=open('output/files/OG_MRB_S5000_RF0','w')\n",
    "for idx,row in GENES_MRB_S5000_RF0.iterrows():\n",
    "    GENES_MRB_S5000_RF0_FILE.write(row['species']+'\\t'+row['chr']+'\\t'+row['orthogroup']+'\\t'+idx+'\\t'+row['sign']+'\\t'+str(row['start'])+'\\t'+str(row['end'])+'\\tXX\\tXX\\n')"
   ]
  },
  {
   "cell_type": "markdown",
   "metadata": {
    "collapsed": true
   },
   "source": [
    "### Observed horizontal gene transfers\n",
    "\n",
    "We consider the results of ALE, keeping only the HGTs sampled with frequence at least 1%"
   ]
  },
  {
   "cell_type": "code",
   "execution_count": 10,
   "metadata": {},
   "outputs": [
    {
     "name": "stdout",
     "output_type": "stream",
     "text": [
      "Filtering HGT with frequency>=0.001 5000 MrBayes samples and RF distance 0\n",
      "Number of HGT pre families filtering: 999161\n",
      "Number of HGT post families filtering: 854014\n"
     ]
    }
   ],
   "source": [
    "# Filtering the HGTs to keep only the ones from selected families\n",
    "print('Filtering HGT with frequency>=0.001 5000 MrBayes samples and RF distance 0')\n",
    "(nb_hgt_pre,nb_hgt_post) = filter_HGT('input/ALE_1000_HGT_001',OG_MRB_S5000_RF0,'output/files/ALE_1000_HGT_001_FILTERED')\n",
    "print('Number of HGT pre families filtering: '+str(nb_hgt_pre))\n",
    "print('Number of HGT post families filtering: '+str(nb_hgt_post))"
   ]
  },
  {
   "cell_type": "code",
   "execution_count": 11,
   "metadata": {},
   "outputs": [
    {
     "name": "stdout",
     "output_type": "stream",
     "text": [
      "Number of HGT post min. frequency filtering >= 0.2:  16210\n",
      "Number of HGT post min. frequency filtering >= 0.5:  4771\n",
      "Number of HGT post min. frequency filtering >= 0.8:  1778\n"
     ]
    }
   ],
   "source": [
    "# Creating a data frame of the above HGTs while filtering out the ones with frequency < 0.2\n",
    "HGT_MRB_S5000_RF0_TF20 = read_HGT('output/files/ALE_1000_HGT_001_FILTERED',0.2)\n",
    "# More statistics on HGTs\n",
    "print(\"Number of HGT post min. frequency filtering >= 0.2: \", len(HGT_MRB_S5000_RF0_TF20.loc[HGT_MRB_S5000_RF0_TF20['frequency']>=0.2]))\n",
    "print(\"Number of HGT post min. frequency filtering >= 0.5: \", len(HGT_MRB_S5000_RF0_TF20.loc[HGT_MRB_S5000_RF0_TF20['frequency']>=0.5]))\n",
    "print(\"Number of HGT post min. frequency filtering >= 0.8: \", len(HGT_MRB_S5000_RF0_TF20.loc[HGT_MRB_S5000_RF0_TF20['frequency']>=0.8]))"
   ]
  },
  {
   "cell_type": "markdown",
   "metadata": {},
   "source": [
    "### Figure 4: distribution of HGT frequency for HGT with frequence >= 0.2"
   ]
  },
  {
   "cell_type": "code",
   "execution_count": 12,
   "metadata": {
    "scrolled": true
   },
   "outputs": [
    {
     "data": {
      "image/png": "[encoded data removed]",
      "text/plain": [
       "<Figure size 720x360 with 1 Axes>"
      ]
     },
     "metadata": {},
     "output_type": "display_data"
    }
   ],
   "source": [
    "pltHGT = HGT_MRB_S5000_RF0_TF20.hist(column='frequency',bins=np.arange(0.2,1.0,0.05),grid=True,figsize=(10,5))\n",
    "plt.xticks(np.arange(0.2,1,0.05), rotation=45)\n",
    "plt.xlabel('frequency', fontsize=14)\n",
    "plt.ylabel('number of HGTs', fontsize=14)\n",
    "plt.title('HGT frequency distribution, post-filtering', fontsize=14)\n",
    "plt.tight_layout()\n",
    "plt.savefig('output/images/hgt_mrb_s5000_rf0_tf20_frequency.png') "
   ]
  },
  {
   "cell_type": "markdown",
   "metadata": {},
   "source": [
    "Result: output/images/hgt_mrb_s5000_rf0_tf20_frequency.png\n",
    "\n",
    "<center><img src=\"output/images/hgt_mrb_s5000_rf0_tf20_frequency.png\" width=700px></center>"
   ]
  },
  {
   "cell_type": "markdown",
   "metadata": {
    "collapsed": true
   },
   "source": [
    "### MaxTiC consistency analysis"
   ]
  },
  {
   "cell_type": "code",
   "execution_count": 13,
   "metadata": {},
   "outputs": [
    {
     "name": "stdout",
     "output_type": "stream",
     "text": [
      "Table of kept and discarded constraints per minimum frequency of HGT used to define constraints\n"
     ]
    },
    {
     "data": {
      "text/html": [
       "<div>\n",
       "<style scoped>\n",
       "    .dataframe tbody tr th:only-of-type {\n",
       "        vertical-align: middle;\n",
       "    }\n",
       "\n",
       "    .dataframe tbody tr th {\n",
       "        vertical-align: top;\n",
       "    }\n",
       "\n",
       "    .dataframe thead th {\n",
       "        text-align: right;\n",
       "    }\n",
       "</style>\n",
       "<table border=\"1\" class=\"dataframe\">\n",
       "  <thead>\n",
       "    <tr style=\"text-align: right;\">\n",
       "      <th></th>\n",
       "      <th>kept_constraints</th>\n",
       "      <th>weight</th>\n",
       "      <th>discarded_constraints</th>\n",
       "      <th>weight</th>\n",
       "      <th>weight_ratio</th>\n",
       "    </tr>\n",
       "  </thead>\n",
       "  <tbody>\n",
       "    <tr>\n",
       "      <th>20</th>\n",
       "      <td>39</td>\n",
       "      <td>4464.978</td>\n",
       "      <td>35</td>\n",
       "      <td>447.840</td>\n",
       "      <td>0.908843</td>\n",
       "    </tr>\n",
       "    <tr>\n",
       "      <th>25</th>\n",
       "      <td>32</td>\n",
       "      <td>4172.676</td>\n",
       "      <td>31</td>\n",
       "      <td>377.050</td>\n",
       "      <td>0.917127</td>\n",
       "    </tr>\n",
       "    <tr>\n",
       "      <th>30</th>\n",
       "      <td>29</td>\n",
       "      <td>3877.516</td>\n",
       "      <td>23</td>\n",
       "      <td>315.326</td>\n",
       "      <td>0.924794</td>\n",
       "    </tr>\n",
       "    <tr>\n",
       "      <th>35</th>\n",
       "      <td>25</td>\n",
       "      <td>3626.852</td>\n",
       "      <td>19</td>\n",
       "      <td>285.850</td>\n",
       "      <td>0.926943</td>\n",
       "    </tr>\n",
       "    <tr>\n",
       "      <th>40</th>\n",
       "      <td>21</td>\n",
       "      <td>3359.890</td>\n",
       "      <td>17</td>\n",
       "      <td>245.530</td>\n",
       "      <td>0.931900</td>\n",
       "    </tr>\n",
       "    <tr>\n",
       "      <th>45</th>\n",
       "      <td>20</td>\n",
       "      <td>3156.614</td>\n",
       "      <td>16</td>\n",
       "      <td>220.198</td>\n",
       "      <td>0.934791</td>\n",
       "    </tr>\n",
       "    <tr>\n",
       "      <th>50</th>\n",
       "      <td>18</td>\n",
       "      <td>2983.730</td>\n",
       "      <td>14</td>\n",
       "      <td>196.538</td>\n",
       "      <td>0.938201</td>\n",
       "    </tr>\n",
       "    <tr>\n",
       "      <th>55</th>\n",
       "      <td>15</td>\n",
       "      <td>2823.456</td>\n",
       "      <td>13</td>\n",
       "      <td>164.976</td>\n",
       "      <td>0.944795</td>\n",
       "    </tr>\n",
       "    <tr>\n",
       "      <th>60</th>\n",
       "      <td>13</td>\n",
       "      <td>2658.032</td>\n",
       "      <td>10</td>\n",
       "      <td>138.578</td>\n",
       "      <td>0.950448</td>\n",
       "    </tr>\n",
       "    <tr>\n",
       "      <th>65</th>\n",
       "      <td>10</td>\n",
       "      <td>2473.694</td>\n",
       "      <td>10</td>\n",
       "      <td>117.980</td>\n",
       "      <td>0.954477</td>\n",
       "    </tr>\n",
       "    <tr>\n",
       "      <th>70</th>\n",
       "      <td>7</td>\n",
       "      <td>2288.016</td>\n",
       "      <td>6</td>\n",
       "      <td>90.642</td>\n",
       "      <td>0.961894</td>\n",
       "    </tr>\n",
       "    <tr>\n",
       "      <th>75</th>\n",
       "      <td>7</td>\n",
       "      <td>2083.748</td>\n",
       "      <td>3</td>\n",
       "      <td>67.658</td>\n",
       "      <td>0.968552</td>\n",
       "    </tr>\n",
       "    <tr>\n",
       "      <th>80</th>\n",
       "      <td>6</td>\n",
       "      <td>1806.846</td>\n",
       "      <td>3</td>\n",
       "      <td>48.958</td>\n",
       "      <td>0.973619</td>\n",
       "    </tr>\n",
       "    <tr>\n",
       "      <th>85</th>\n",
       "      <td>4</td>\n",
       "      <td>1561.264</td>\n",
       "      <td>2</td>\n",
       "      <td>22.772</td>\n",
       "      <td>0.985624</td>\n",
       "    </tr>\n",
       "    <tr>\n",
       "      <th>90</th>\n",
       "      <td>3</td>\n",
       "      <td>1186.730</td>\n",
       "      <td>1</td>\n",
       "      <td>1.800</td>\n",
       "      <td>0.998486</td>\n",
       "    </tr>\n",
       "    <tr>\n",
       "      <th>95</th>\n",
       "      <td>1</td>\n",
       "      <td>671.194</td>\n",
       "      <td>0</td>\n",
       "      <td>0.000</td>\n",
       "      <td>1.000000</td>\n",
       "    </tr>\n",
       "  </tbody>\n",
       "</table>\n",
       "</div>"
      ],
      "text/plain": [
       "    kept_constraints    weight  discarded_constraints   weight  weight_ratio\n",
       "20                39  4464.978                     35  447.840      0.908843\n",
       "25                32  4172.676                     31  377.050      0.917127\n",
       "30                29  3877.516                     23  315.326      0.924794\n",
       "35                25  3626.852                     19  285.850      0.926943\n",
       "40                21  3359.890                     17  245.530      0.931900\n",
       "45                20  3156.614                     16  220.198      0.934791\n",
       "50                18  2983.730                     14  196.538      0.938201\n",
       "55                15  2823.456                     13  164.976      0.944795\n",
       "60                13  2658.032                     10  138.578      0.950448\n",
       "65                10  2473.694                     10  117.980      0.954477\n",
       "70                 7  2288.016                      6   90.642      0.961894\n",
       "75                 7  2083.748                      3   67.658      0.968552\n",
       "80                 6  1806.846                      3   48.958      0.973619\n",
       "85                 4  1561.264                      2   22.772      0.985624\n",
       "90                 3  1186.730                      1    1.800      0.998486\n",
       "95                 1   671.194                      0    0.000      1.000000"
      ]
     },
     "execution_count": 13,
     "metadata": {},
     "output_type": "execute_result"
    }
   ],
   "source": [
    "# Level of conflict\n",
    "FREQ_RANGE = [20,25,30,35,40,45,50,55,60,65,70,75,80,85,90,95]\n",
    "\n",
    "MAXTIC_KEPT_DISC_SUMMARY_AUX = {}\n",
    "for f in FREQ_RANGE:\n",
    "    KEPT_FILE = 'input/MaxTiC_'+str(f)+'/ALE_1000_HGT_01_'+str(f)+'_1_kept'\n",
    "    (nk,wk)=read_constraints(KEPT_FILE)\n",
    "    DISC_FILE = 'input/MaxTiC_'+str(f)+'/ALE_1000_HGT_01_'+str(f)+'_1_discarded'\n",
    "    (nd,wd)=read_constraints(DISC_FILE)\n",
    "    MAXTIC_KEPT_DISC_SUMMARY_AUX[f] = (nk,wk,nd,wd,wk/(wk+wd))\n",
    "        \n",
    "MAXTIC_KEPT_DISC_SUMMARY = pd.DataFrame.transpose(pd.DataFrame(MAXTIC_KEPT_DISC_SUMMARY_AUX))\n",
    "MAXTIC_KEPT_DISC_SUMMARY.columns=['kept_constraints', 'weight', 'discarded_constraints', 'weight', 'weight_ratio']\n",
    "cols = ['kept_constraints', 'discarded_constraints']\n",
    "MAXTIC_KEPT_DISC_SUMMARY[cols] = MAXTIC_KEPT_DISC_SUMMARY[cols].applymap(np.int64)\n",
    "\n",
    "print(\"Table of kept and discarded constraints per minimum frequency of HGT used to define constraints\")\n",
    "MAXTIC_KEPT_DISC_SUMMARY"
   ]
  },
  {
   "cell_type": "code",
   "execution_count": 14,
   "metadata": {},
   "outputs": [
    {
     "name": "stdout",
     "output_type": "stream",
     "text": [
      "Table of significant kept ranking constraints per minimum frequency of HGT used to define constraints\n"
     ]
    },
    {
     "data": {
      "text/html": [
       "<div>\n",
       "<style scoped>\n",
       "    .dataframe tbody tr th:only-of-type {\n",
       "        vertical-align: middle;\n",
       "    }\n",
       "\n",
       "    .dataframe tbody tr th {\n",
       "        vertical-align: top;\n",
       "    }\n",
       "\n",
       "    .dataframe thead th {\n",
       "        text-align: right;\n",
       "    }\n",
       "</style>\n",
       "<table border=\"1\" class=\"dataframe\">\n",
       "  <thead>\n",
       "    <tr style=\"text-align: right;\">\n",
       "      <th></th>\n",
       "      <th>18,24</th>\n",
       "      <th>25,24</th>\n",
       "      <th>14,24</th>\n",
       "      <th>18,15</th>\n",
       "      <th>23,24</th>\n",
       "      <th>14,15</th>\n",
       "    </tr>\n",
       "  </thead>\n",
       "  <tbody>\n",
       "    <tr>\n",
       "      <th>20</th>\n",
       "      <td>53.194</td>\n",
       "      <td>65.328</td>\n",
       "      <td>68.552</td>\n",
       "      <td>366.514</td>\n",
       "      <td>682.928</td>\n",
       "      <td>3077.384</td>\n",
       "    </tr>\n",
       "    <tr>\n",
       "      <th>25</th>\n",
       "      <td>38.876</td>\n",
       "      <td>44.942</td>\n",
       "      <td>52.838</td>\n",
       "      <td>324.466</td>\n",
       "      <td>628.380</td>\n",
       "      <td>2975.468</td>\n",
       "    </tr>\n",
       "    <tr>\n",
       "      <th>30</th>\n",
       "      <td>29.388</td>\n",
       "      <td>25.906</td>\n",
       "      <td>38.732</td>\n",
       "      <td>276.076</td>\n",
       "      <td>572.360</td>\n",
       "      <td>2857.636</td>\n",
       "    </tr>\n",
       "    <tr>\n",
       "      <th>35</th>\n",
       "      <td>21.580</td>\n",
       "      <td>13.666</td>\n",
       "      <td>28.530</td>\n",
       "      <td>253.674</td>\n",
       "      <td>500.542</td>\n",
       "      <td>2754.516</td>\n",
       "    </tr>\n",
       "    <tr>\n",
       "      <th>40</th>\n",
       "      <td>14.840</td>\n",
       "      <td>5.424</td>\n",
       "      <td>14.996</td>\n",
       "      <td>226.978</td>\n",
       "      <td>385.866</td>\n",
       "      <td>2669.926</td>\n",
       "    </tr>\n",
       "    <tr>\n",
       "      <th>45</th>\n",
       "      <td>5.738</td>\n",
       "      <td>2.962</td>\n",
       "      <td>8.242</td>\n",
       "      <td>207.642</td>\n",
       "      <td>313.780</td>\n",
       "      <td>2583.114</td>\n",
       "    </tr>\n",
       "    <tr>\n",
       "      <th>50</th>\n",
       "      <td>3.854</td>\n",
       "      <td>1.022</td>\n",
       "      <td>5.382</td>\n",
       "      <td>193.426</td>\n",
       "      <td>262.204</td>\n",
       "      <td>2488.406</td>\n",
       "    </tr>\n",
       "    <tr>\n",
       "      <th>55</th>\n",
       "      <td>3.854</td>\n",
       "      <td>0.000</td>\n",
       "      <td>1.284</td>\n",
       "      <td>170.290</td>\n",
       "      <td>226.754</td>\n",
       "      <td>2398.168</td>\n",
       "    </tr>\n",
       "    <tr>\n",
       "      <th>60</th>\n",
       "      <td>2.656</td>\n",
       "      <td>0.000</td>\n",
       "      <td>1.284</td>\n",
       "      <td>154.020</td>\n",
       "      <td>180.812</td>\n",
       "      <td>2298.486</td>\n",
       "    </tr>\n",
       "    <tr>\n",
       "      <th>65</th>\n",
       "      <td>0.000</td>\n",
       "      <td>0.000</td>\n",
       "      <td>0.000</td>\n",
       "      <td>135.364</td>\n",
       "      <td>137.150</td>\n",
       "      <td>2183.444</td>\n",
       "    </tr>\n",
       "    <tr>\n",
       "      <th>70</th>\n",
       "      <td>0.000</td>\n",
       "      <td>0.000</td>\n",
       "      <td>0.000</td>\n",
       "      <td>112.360</td>\n",
       "      <td>106.276</td>\n",
       "      <td>2058.298</td>\n",
       "    </tr>\n",
       "    <tr>\n",
       "      <th>75</th>\n",
       "      <td>0.000</td>\n",
       "      <td>0.000</td>\n",
       "      <td>0.000</td>\n",
       "      <td>96.526</td>\n",
       "      <td>66.810</td>\n",
       "      <td>1910.744</td>\n",
       "    </tr>\n",
       "    <tr>\n",
       "      <th>80</th>\n",
       "      <td>0.000</td>\n",
       "      <td>0.000</td>\n",
       "      <td>0.000</td>\n",
       "      <td>74.698</td>\n",
       "      <td>6.820</td>\n",
       "      <td>1720.242</td>\n",
       "    </tr>\n",
       "    <tr>\n",
       "      <th>85</th>\n",
       "      <td>0.000</td>\n",
       "      <td>0.000</td>\n",
       "      <td>0.000</td>\n",
       "      <td>51.570</td>\n",
       "      <td>3.590</td>\n",
       "      <td>1504.314</td>\n",
       "    </tr>\n",
       "    <tr>\n",
       "      <th>90</th>\n",
       "      <td>0.000</td>\n",
       "      <td>0.000</td>\n",
       "      <td>0.000</td>\n",
       "      <td>18.480</td>\n",
       "      <td>1.862</td>\n",
       "      <td>1166.388</td>\n",
       "    </tr>\n",
       "    <tr>\n",
       "      <th>95</th>\n",
       "      <td>0.000</td>\n",
       "      <td>0.000</td>\n",
       "      <td>0.000</td>\n",
       "      <td>0.000</td>\n",
       "      <td>0.000</td>\n",
       "      <td>671.194</td>\n",
       "    </tr>\n",
       "  </tbody>\n",
       "</table>\n",
       "</div>"
      ],
      "text/plain": [
       "     18,24   25,24   14,24    18,15    23,24     14,15\n",
       "20  53.194  65.328  68.552  366.514  682.928  3077.384\n",
       "25  38.876  44.942  52.838  324.466  628.380  2975.468\n",
       "30  29.388  25.906  38.732  276.076  572.360  2857.636\n",
       "35  21.580  13.666  28.530  253.674  500.542  2754.516\n",
       "40  14.840   5.424  14.996  226.978  385.866  2669.926\n",
       "45   5.738   2.962   8.242  207.642  313.780  2583.114\n",
       "50   3.854   1.022   5.382  193.426  262.204  2488.406\n",
       "55   3.854   0.000   1.284  170.290  226.754  2398.168\n",
       "60   2.656   0.000   1.284  154.020  180.812  2298.486\n",
       "65   0.000   0.000   0.000  135.364  137.150  2183.444\n",
       "70   0.000   0.000   0.000  112.360  106.276  2058.298\n",
       "75   0.000   0.000   0.000   96.526   66.810  1910.744\n",
       "80   0.000   0.000   0.000   74.698    6.820  1720.242\n",
       "85   0.000   0.000   0.000   51.570    3.590  1504.314\n",
       "90   0.000   0.000   0.000   18.480    1.862  1166.388\n",
       "95   0.000   0.000   0.000    0.000    0.000   671.194"
      ]
     },
     "execution_count": 14,
     "metadata": {},
     "output_type": "execute_result"
    }
   ],
   "source": [
    "# Ranking constraints details: kept constraints\n",
    "\n",
    "KEPT_RANGE = ['18,24','25,24','14,24','18,15','23,24','14,15']\n",
    "MAXTIC_KEPT_AUX = {}\n",
    "for f in FREQ_RANGE:\n",
    "    KEPT_FILE = open('input/MaxTiC_'+str(f)+'/ALE_1000_HGT_01_'+str(f)+'_1_kept','r').readlines()\n",
    "    KEPT_LIST={}\n",
    "    for l in KEPT_FILE:\n",
    "        l1=l.rstrip().split()\n",
    "        if l1[0] in KEPT_RANGE:\n",
    "            KEPT_LIST[l1[0]] = float(l1[1])\n",
    "    MAXTIC_KEPT_AUX[f] = []\n",
    "    for oy in KEPT_RANGE:\n",
    "        if oy in KEPT_LIST.keys():\n",
    "            MAXTIC_KEPT_AUX[f].append(KEPT_LIST[oy])\n",
    "        else:\n",
    "            MAXTIC_KEPT_AUX[f].append(0) \n",
    "MAXTIC_KEPT = pd.DataFrame.transpose(pd.DataFrame(MAXTIC_KEPT_AUX))\n",
    "MAXTIC_KEPT.columns = KEPT_RANGE\n",
    "            \n",
    "print(\"Table of significant kept ranking constraints per minimum frequency of HGT used to define constraints\")\n",
    "MAXTIC_KEPT"
   ]
  },
  {
   "cell_type": "code",
   "execution_count": 15,
   "metadata": {},
   "outputs": [
    {
     "name": "stdout",
     "output_type": "stream",
     "text": [
      "Table of significant discarded ranking constraints per minimum frequency of HGT used to define  constraints\n"
     ]
    },
    {
     "data": {
      "text/html": [
       "<div>\n",
       "<style scoped>\n",
       "    .dataframe tbody tr th:only-of-type {\n",
       "        vertical-align: middle;\n",
       "    }\n",
       "\n",
       "    .dataframe tbody tr th {\n",
       "        vertical-align: top;\n",
       "    }\n",
       "\n",
       "    .dataframe thead th {\n",
       "        text-align: right;\n",
       "    }\n",
       "</style>\n",
       "<table border=\"1\" class=\"dataframe\">\n",
       "  <thead>\n",
       "    <tr style=\"text-align: right;\">\n",
       "      <th></th>\n",
       "      <th>15,19</th>\n",
       "      <th>22,25</th>\n",
       "      <th>15,18</th>\n",
       "      <th>15,14</th>\n",
       "    </tr>\n",
       "  </thead>\n",
       "  <tbody>\n",
       "    <tr>\n",
       "      <th>20</th>\n",
       "      <td>26.344</td>\n",
       "      <td>35.692</td>\n",
       "      <td>50.632</td>\n",
       "      <td>218.256</td>\n",
       "    </tr>\n",
       "    <tr>\n",
       "      <th>25</th>\n",
       "      <td>20.630</td>\n",
       "      <td>31.242</td>\n",
       "      <td>43.542</td>\n",
       "      <td>194.222</td>\n",
       "    </tr>\n",
       "    <tr>\n",
       "      <th>30</th>\n",
       "      <td>15.700</td>\n",
       "      <td>25.174</td>\n",
       "      <td>36.516</td>\n",
       "      <td>172.902</td>\n",
       "    </tr>\n",
       "    <tr>\n",
       "      <th>35</th>\n",
       "      <td>15.056</td>\n",
       "      <td>22.674</td>\n",
       "      <td>33.396</td>\n",
       "      <td>159.304</td>\n",
       "    </tr>\n",
       "    <tr>\n",
       "      <th>40</th>\n",
       "      <td>10.598</td>\n",
       "      <td>15.920</td>\n",
       "      <td>26.688</td>\n",
       "      <td>148.908</td>\n",
       "    </tr>\n",
       "    <tr>\n",
       "      <th>45</th>\n",
       "      <td>7.190</td>\n",
       "      <td>12.532</td>\n",
       "      <td>24.098</td>\n",
       "      <td>138.820</td>\n",
       "    </tr>\n",
       "    <tr>\n",
       "      <th>50</th>\n",
       "      <td>5.368</td>\n",
       "      <td>7.804</td>\n",
       "      <td>24.098</td>\n",
       "      <td>127.368</td>\n",
       "    </tr>\n",
       "    <tr>\n",
       "      <th>55</th>\n",
       "      <td>5.368</td>\n",
       "      <td>5.706</td>\n",
       "      <td>17.804</td>\n",
       "      <td>112.618</td>\n",
       "    </tr>\n",
       "    <tr>\n",
       "      <th>60</th>\n",
       "      <td>4.188</td>\n",
       "      <td>0.000</td>\n",
       "      <td>14.352</td>\n",
       "      <td>98.840</td>\n",
       "    </tr>\n",
       "    <tr>\n",
       "      <th>65</th>\n",
       "      <td>4.188</td>\n",
       "      <td>0.000</td>\n",
       "      <td>10.578</td>\n",
       "      <td>88.778</td>\n",
       "    </tr>\n",
       "    <tr>\n",
       "      <th>70</th>\n",
       "      <td>0.000</td>\n",
       "      <td>0.000</td>\n",
       "      <td>9.208</td>\n",
       "      <td>73.978</td>\n",
       "    </tr>\n",
       "    <tr>\n",
       "      <th>75</th>\n",
       "      <td>0.000</td>\n",
       "      <td>0.000</td>\n",
       "      <td>6.332</td>\n",
       "      <td>59.536</td>\n",
       "    </tr>\n",
       "    <tr>\n",
       "      <th>80</th>\n",
       "      <td>0.000</td>\n",
       "      <td>0.000</td>\n",
       "      <td>3.268</td>\n",
       "      <td>43.972</td>\n",
       "    </tr>\n",
       "    <tr>\n",
       "      <th>85</th>\n",
       "      <td>0.000</td>\n",
       "      <td>0.000</td>\n",
       "      <td>0.000</td>\n",
       "      <td>21.054</td>\n",
       "    </tr>\n",
       "    <tr>\n",
       "      <th>90</th>\n",
       "      <td>0.000</td>\n",
       "      <td>0.000</td>\n",
       "      <td>0.000</td>\n",
       "      <td>1.800</td>\n",
       "    </tr>\n",
       "    <tr>\n",
       "      <th>95</th>\n",
       "      <td>0.000</td>\n",
       "      <td>0.000</td>\n",
       "      <td>0.000</td>\n",
       "      <td>0.000</td>\n",
       "    </tr>\n",
       "  </tbody>\n",
       "</table>\n",
       "</div>"
      ],
      "text/plain": [
       "     15,19   22,25   15,18    15,14\n",
       "20  26.344  35.692  50.632  218.256\n",
       "25  20.630  31.242  43.542  194.222\n",
       "30  15.700  25.174  36.516  172.902\n",
       "35  15.056  22.674  33.396  159.304\n",
       "40  10.598  15.920  26.688  148.908\n",
       "45   7.190  12.532  24.098  138.820\n",
       "50   5.368   7.804  24.098  127.368\n",
       "55   5.368   5.706  17.804  112.618\n",
       "60   4.188   0.000  14.352   98.840\n",
       "65   4.188   0.000  10.578   88.778\n",
       "70   0.000   0.000   9.208   73.978\n",
       "75   0.000   0.000   6.332   59.536\n",
       "80   0.000   0.000   3.268   43.972\n",
       "85   0.000   0.000   0.000   21.054\n",
       "90   0.000   0.000   0.000    1.800\n",
       "95   0.000   0.000   0.000    0.000"
      ]
     },
     "execution_count": 15,
     "metadata": {},
     "output_type": "execute_result"
    }
   ],
   "source": [
    "# Ranking constraints details: discarded constraints\n",
    "\n",
    "DISC_RANGE = ['15,19','22,25','15,18','15,14']        \n",
    "MAXTIC_DISC_AUX = {}\n",
    "for f in FREQ_RANGE:\n",
    "    DISC_FILE = open('input/MaxTiC_'+str(f)+'/ALE_1000_HGT_01_'+str(f)+'_1_discarded','r').readlines()\n",
    "    DISC_LIST={}\n",
    "    for l in DISC_FILE:\n",
    "        l1=l.rstrip().split()\n",
    "        if l1[0] in DISC_RANGE:\n",
    "            DISC_LIST[l1[0]] = float(l1[1])\n",
    "    MAXTIC_DISC_AUX[f] = []\n",
    "    for oy in DISC_RANGE:\n",
    "        if oy in DISC_LIST.keys():\n",
    "            MAXTIC_DISC_AUX[f].append(DISC_LIST[oy])\n",
    "        else:\n",
    "            MAXTIC_DISC_AUX[f].append(0) \n",
    "MAXTIC_DISC = pd.DataFrame.transpose(pd.DataFrame(MAXTIC_DISC_AUX))\n",
    "MAXTIC_DISC.columns = DISC_RANGE\n",
    "            \n",
    "print(\"Table of significant discarded ranking constraints per minimum frequency of HGT used to define  constraints\")\n",
    "MAXTIC_DISC"
   ]
  },
  {
   "cell_type": "markdown",
   "metadata": {},
   "source": [
    "### Figure 5: potential introgression events\n",
    "They are obtained from HGTs appearing in at least 50 orthogroups with frequency >= 0.5 and whose accumulated frequency is at least 50."
   ]
  },
  {
   "cell_type": "code",
   "execution_count": 16,
   "metadata": {},
   "outputs": [
    {
     "name": "stdout",
     "output_type": "stream",
     "text": [
      "Number of HGT post min. frequency filtering:  4771\n"
     ]
    },
    {
     "data": {
      "image/png": "[encoded data removed]",
      "text/plain": [
       "<Figure size 720x360 with 1 Axes>"
      ]
     },
     "metadata": {},
     "output_type": "display_data"
    }
   ],
   "source": [
    "HGT_MRB_S5000_RF0_TF50 = read_HGT('output/ALE_1000_HGT_001_FILTERED',0.5)\n",
    "print(\"Number of HGT post min. frequency filtering: \", len(HGT_MRB_S5000_RF0_TF50))\n",
    "HGT_AGG_S5000_RF0_TF50           = aggregate_HGT(HGT_MRB_S5000_RF0_TF50)\n",
    "HGT_AGG_S5000_RF0_TF50_N50_CF50  = filter_introgression(HGT_AGG_S5000_RF0_TF50,50,50,'output/images/HGT_agg_s5000_rf0_tf50_n50_cf50.png')"
   ]
  },
  {
   "cell_type": "markdown",
   "metadata": {},
   "source": [
    "### Orthogroups support for individual introgression events"
   ]
  },
  {
   "cell_type": "code",
   "execution_count": 17,
   "metadata": {},
   "outputs": [],
   "source": [
    "# Recording interesting introgression events\n",
    "INTRO_EVENTS_50_100_75 = [('AARAB','15'),('AARAB','ACOLU'),('AGAMB','AARAB'),('AARAB','AGAMB'),('AQUAD','15'),('ACHRI','24'),('AQUAD','AGAMB'),('AQUAD','ACOLU')]\n",
    "INTRO_EVENTS_50_50_50  = INTRO_EVENTS_50_100_75+[('15','AARAB'),('AQUAD','AMERU'),('14','15')]\n",
    "INTRO_EVENTS_20_100_75 = INTRO_EVENTS_50_100_75+[('15','AARAB'),('AMACU','ACULI'),('AQUAD','AMERU'),('AGAMB','AQUAD'),('14','15'),('AMERU','AQUAD')]"
   ]
  },
  {
   "cell_type": "code",
   "execution_count": 18,
   "metadata": {},
   "outputs": [],
   "source": [
    "OG_S5000_RF0_TF50_ACHRI_24 = extract_introg_event_families(HGT_MRB_S5000_RF0_TF50,ORTHOGROUPS,'ACHRI','24','S5000_RF0_TF50.txt')\n",
    "ACHRI_24_mean     = OG_S5000_RF0_TF50_ACHRI_24['frequency'].mean()\n",
    "ACHRI_24_nb       = len(OG_S5000_RF0_TF50_ACHRI_24)\n",
    "ACHRI_NB_coverage = OG_S5000_RF0_TF50_ACHRI_24['nb_species'].mean()"
   ]
  },
  {
   "cell_type": "code",
   "execution_count": 19,
   "metadata": {},
   "outputs": [],
   "source": [
    "# Checking families interesting introgression events\n",
    "OG_INTRO_EVENTS_50_100_75={}\n",
    "for (X,Y) in INTRO_EVENTS_50_100_75:\n",
    "    OG_INTRO_EVENTS_50_100_75[(X,Y)]=extract_introg_event_families(HGT_MRB_S5000_RF0_TF50,ORTHOGROUPS,X,Y,'S5000_RF0_TF50.txt')\n",
    "\n",
    "OG_INTRO_EVENTS_50_50_50={}\n",
    "for (X,Y) in INTRO_EVENTS_50_50_50:\n",
    "    OG_INTRO_EVENTS_50_50_50[(X,Y)]=extract_introg_event_families(HGT_MRB_S5000_RF0_TF50,ORTHOGROUPS,X,Y,'S5000_RF0_TF50.txt')\n",
    "\n",
    "OG_INTRO_EVENTS_20_100_75={}\n",
    "for (X,Y) in INTRO_EVENTS_20_100_75:\n",
    "    OG_INTRO_EVENTS_20_100_75[(X,Y)]=extract_introg_event_families(HGT_MRB_S5000_RF0_TF20,ORTHOGROUPS,X,Y,'S5000_RF0_TF20.txt')"
   ]
  },
  {
   "cell_type": "code",
   "execution_count": 20,
   "metadata": {},
   "outputs": [
    {
     "name": "stdout",
     "output_type": "stream",
     "text": [
      "#---> HGT frequency 50\n",
      "#donor\trec.\t#HGTs\tavgFreq\tcovAll\tcovGamb\tcovOutg\tcovAsian\n",
      "AARAB\t15\t1189\t0.824\t13.574\t5.817\t1.896\t5.862\n",
      "AARAB\tACOLU\t418\t0.719\t12.833\t5.624\t1.507\t5.701\n",
      "AGAMB\tAARAB\t342\t0.741\t13.202\t5.673\t1.839\t5.69\n",
      "AARAB\tAGAMB\t361\t0.717\t12.507\t5.211\t1.82\t5.476\n",
      "AQUAD\t15\t332\t0.797\t13.542\t5.783\t1.892\t5.867\n",
      "ACHRI\t24\t195\t0.65\t13.897\t5.938\t1.995\t5.964\n",
      "AQUAD\tAGAMB\t193\t0.704\t12.938\t5.461\t1.839\t5.637\n",
      "AQUAD\tACOLU\t131\t0.7\t12.817\t5.634\t1.481\t5.702\n",
      "15\tAARAB\t93\t0.645\t13.699\t5.925\t1.925\t5.849\n",
      "AQUAD\tAMERU\t90\t0.677\t13.156\t5.644\t1.756\t5.756\n",
      "14\t15\t90\t0.739\t13.822\t5.9\t1.989\t5.933\n",
      "\n",
      "\n",
      "#---> HGT frequency 20\n",
      "#donor\trec.\t#HGTs\tavgFreq\tcovAll\tcovGamb\tcovOutg\tcovAsian\n",
      "AARAB\t15\t1819\t0.652\t13.422\t5.752\t1.875\t5.795\n",
      "AARAB\tACOLU\t887\t0.512\t12.551\t5.486\t1.542\t5.523\n",
      "AGAMB\tAARAB\t674\t0.531\t12.697\t5.475\t1.782\t5.441\n",
      "AARAB\tAGAMB\t775\t0.504\t12.138\t5.062\t1.77\t5.306\n",
      "AQUAD\t15\t622\t0.568\t13.408\t5.715\t1.881\t5.812\n",
      "ACHRI\t24\t780\t0.417\t13.717\t5.918\t1.872\t5.927\n",
      "AQUAD\tAGAMB\t531\t0.451\t12.316\t5.154\t1.8\t5.362\n",
      "AQUAD\tACOLU\t314\t0.468\t12.159\t5.299\t1.468\t5.392\n",
      "15\tAARAB\t364\t0.388\t13.445\t5.81\t1.882\t5.753\n",
      "AMACU\tACULI\t352\t0.262\t6.165\t2.435\t1.528\t2.202\n",
      "AQUAD\tAMERU\t294\t0.423\t12.259\t5.187\t1.656\t5.415\n",
      "AGAMB\tAQUAD\t289\t0.404\t11.72\t4.91\t1.74\t5.069\n",
      "14\t15\t300\t0.427\t13.42\t5.753\t1.903\t5.763\n",
      "AMERU\tAQUAD\t276\t0.377\t12.906\t5.471\t1.772\t5.663\n"
     ]
    }
   ],
   "source": [
    "show_support(INTRO_EVENTS_50_50_50,OG_INTRO_EVENTS_50_50_50,'---> HGT frequency 50')\n",
    "print('\\n')\n",
    "show_support(INTRO_EVENTS_20_100_75,OG_INTRO_EVENTS_20_100_75,'---> HGT frequency 20')"
   ]
  },
  {
   "cell_type": "code",
   "execution_count": null,
   "metadata": {},
   "outputs": [],
   "source": []
  }
 ],
 "metadata": {
  "kernelspec": {
   "display_name": "Python 3",
   "language": "python",
   "name": "python3"
  },
  "language_info": {
   "codemirror_mode": {
    "name": "ipython",
    "version": 3
   },
   "file_extension": ".py",
   "mimetype": "text/x-python",
   "name": "python",
   "nbconvert_exporter": "python",
   "pygments_lexer": "ipython3",
   "version": "3.6.5"
  }
 },
 "nbformat": 4,
 "nbformat_minor": 2
}
