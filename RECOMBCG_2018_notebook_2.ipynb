{
 "cells": [
  {
   "cell_type": "markdown",
   "metadata": {},
   "source": [
    "# Detecting introgression in Anopheles mosquito genomes using a reconciliation-based approach\n",
    "## Notebook 2: chromoplots\n",
    "\n",
    "## Cedric Chauve, Jingxue Feng,  Liangliang Wang\n",
    "### Departments of Mathematics and Statistics, Simon Fraser University\n",
    "#### Contact: cedric.chauve@sfu.ca\n",
    "#### Date: August 2nd, 2018"
   ]
  },
  {
   "cell_type": "markdown",
   "metadata": {},
   "source": [
    "## Preamble\n",
    "This notebook contains the code required to generate the figures related to chromoplots for the paper *Detecting introgression in Anopheles mosquito genomes using a reconciliation-based approach*, published in the proceedings of RECOMB-CG 2018."
   ]
  },
  {
   "cell_type": "markdown",
   "metadata": {},
   "source": [
    "## Data\n",
    "We use the HGT events from all gene families for the two runs that have been summarized in the file \"./output/files/ALE_1000_HGT_001_FILTERED\", generated in Notebook 1. "
   ]
  },
  {
   "cell_type": "code",
   "execution_count": 1,
   "metadata": {},
   "outputs": [],
   "source": [
    "# Clearing variables\n",
    "rm(list=ls())"
   ]
  },
  {
   "cell_type": "code",
   "execution_count": 2,
   "metadata": {},
   "outputs": [
    {
     "data": {
      "text/html": [
       "<table>\n",
       "<thead><tr><th scope=col>GF</th><th scope=col>run</th><th scope=col>donor</th><th scope=col>receptor</th><th scope=col>freq</th></tr></thead>\n",
       "<tbody>\n",
       "\t<tr><td>EOG091700ML</td><td>run1       </td><td>15         </td><td>14         </td><td>0.012      </td></tr>\n",
       "\t<tr><td>EOG091700ML</td><td>run1       </td><td>AMERU      </td><td>18         </td><td>0.032      </td></tr>\n",
       "\t<tr><td>EOG091700ML</td><td>run1       </td><td>15         </td><td>24         </td><td>0.019      </td></tr>\n",
       "\t<tr><td>EOG091700ML</td><td>run1       </td><td>25         </td><td>AQUAD      </td><td>0.012      </td></tr>\n",
       "\t<tr><td>EOG091700ML</td><td>run1       </td><td>AARAB      </td><td>24         </td><td>0.080      </td></tr>\n",
       "\t<tr><td>EOG091700ML</td><td>run1       </td><td>24         </td><td>AEPIR      </td><td>0.027      </td></tr>\n",
       "</tbody>\n",
       "</table>\n"
      ],
      "text/latex": [
       "\\begin{tabular}{r|lllll}\n",
       " GF & run & donor & receptor & freq\\\\\n",
       "\\hline\n",
       "\t EOG091700ML & run1        & 15          & 14          & 0.012      \\\\\n",
       "\t EOG091700ML & run1        & AMERU       & 18          & 0.032      \\\\\n",
       "\t EOG091700ML & run1        & 15          & 24          & 0.019      \\\\\n",
       "\t EOG091700ML & run1        & 25          & AQUAD       & 0.012      \\\\\n",
       "\t EOG091700ML & run1        & AARAB       & 24          & 0.080      \\\\\n",
       "\t EOG091700ML & run1        & 24          & AEPIR       & 0.027      \\\\\n",
       "\\end{tabular}\n"
      ],
      "text/markdown": [
       "\n",
       "GF | run | donor | receptor | freq | \n",
       "|---|---|---|---|---|---|\n",
       "| EOG091700ML | run1        | 15          | 14          | 0.012       | \n",
       "| EOG091700ML | run1        | AMERU       | 18          | 0.032       | \n",
       "| EOG091700ML | run1        | 15          | 24          | 0.019       | \n",
       "| EOG091700ML | run1        | 25          | AQUAD       | 0.012       | \n",
       "| EOG091700ML | run1        | AARAB       | 24          | 0.080       | \n",
       "| EOG091700ML | run1        | 24          | AEPIR       | 0.027       | \n",
       "\n",
       "\n"
      ],
      "text/plain": [
       "  GF          run  donor receptor freq \n",
       "1 EOG091700ML run1 15    14       0.012\n",
       "2 EOG091700ML run1 AMERU 18       0.032\n",
       "3 EOG091700ML run1 15    24       0.019\n",
       "4 EOG091700ML run1 25    AQUAD    0.012\n",
       "5 EOG091700ML run1 AARAB 24       0.080\n",
       "6 EOG091700ML run1 24    AEPIR    0.027"
      ]
     },
     "metadata": {},
     "output_type": "display_data"
    }
   ],
   "source": [
    "# Reading HGT events\n",
    "aleTransfer <- read.table(\"output/files/ALE_1000_HGT_001_FILTERED\", header = F)\n",
    "colnames(aleTransfer) <- c(\"GF\", \"run\",  \"donor\", \"receptor\", \"freq\")  \n",
    "head(aleTransfer)"
   ]
  },
  {
   "cell_type": "code",
   "execution_count": 3,
   "metadata": {},
   "outputs": [
    {
     "data": {
      "text/html": [
       "<table>\n",
       "<thead><tr><th scope=col>species</th><th scope=col>ctg</th><th scope=col>orthogroup</th><th scope=col>gene</th><th scope=col>gene_orientation</th><th scope=col>start_gene</th><th scope=col>end_gene</th></tr></thead>\n",
       "<tbody>\n",
       "\t<tr><td>AARAB      </td><td>KB704862   </td><td>EOG091700KS</td><td>AARA000005 </td><td>+          </td><td> 2734      </td><td> 7480      </td></tr>\n",
       "\t<tr><td>AARAB      </td><td>KB704862   </td><td>EOG091706V1</td><td>AARA000006 </td><td>-          </td><td>10439      </td><td>11446      </td></tr>\n",
       "\t<tr><td>AARAB      </td><td>KB704862   </td><td>EOG091707ZC</td><td>AARA000007 </td><td>+          </td><td>14933      </td><td>16676      </td></tr>\n",
       "\t<tr><td>AARAB      </td><td>KB704862   </td><td>EOG091707FM</td><td>AARA000008 </td><td>-          </td><td>17299      </td><td>18599      </td></tr>\n",
       "\t<tr><td>AARAB      </td><td>KB704862   </td><td>EOG091705PW</td><td>AARA000009 </td><td>+          </td><td>49895      </td><td>51306      </td></tr>\n",
       "\t<tr><td>AARAB      </td><td>KB704862   </td><td>EOG091704YG</td><td>AARA000010 </td><td>-          </td><td>54019      </td><td>55742      </td></tr>\n",
       "</tbody>\n",
       "</table>\n"
      ],
      "text/latex": [
       "\\begin{tabular}{r|lllllll}\n",
       " species & ctg & orthogroup & gene & gene\\_orientation & start\\_gene & end\\_gene\\\\\n",
       "\\hline\n",
       "\t AARAB       & KB704862    & EOG091700KS & AARA000005  & +           &  2734       &  7480      \\\\\n",
       "\t AARAB       & KB704862    & EOG091706V1 & AARA000006  & -           & 10439       & 11446      \\\\\n",
       "\t AARAB       & KB704862    & EOG091707ZC & AARA000007  & +           & 14933       & 16676      \\\\\n",
       "\t AARAB       & KB704862    & EOG091707FM & AARA000008  & -           & 17299       & 18599      \\\\\n",
       "\t AARAB       & KB704862    & EOG091705PW & AARA000009  & +           & 49895       & 51306      \\\\\n",
       "\t AARAB       & KB704862    & EOG091704YG & AARA000010  & -           & 54019       & 55742      \\\\\n",
       "\\end{tabular}\n"
      ],
      "text/markdown": [
       "\n",
       "species | ctg | orthogroup | gene | gene_orientation | start_gene | end_gene | \n",
       "|---|---|---|---|---|---|\n",
       "| AARAB       | KB704862    | EOG091700KS | AARA000005  | +           |  2734       |  7480       | \n",
       "| AARAB       | KB704862    | EOG091706V1 | AARA000006  | -           | 10439       | 11446       | \n",
       "| AARAB       | KB704862    | EOG091707ZC | AARA000007  | +           | 14933       | 16676       | \n",
       "| AARAB       | KB704862    | EOG091707FM | AARA000008  | -           | 17299       | 18599       | \n",
       "| AARAB       | KB704862    | EOG091705PW | AARA000009  | +           | 49895       | 51306       | \n",
       "| AARAB       | KB704862    | EOG091704YG | AARA000010  | -           | 54019       | 55742       | \n",
       "\n",
       "\n"
      ],
      "text/plain": [
       "  species ctg      orthogroup  gene       gene_orientation start_gene end_gene\n",
       "1 AARAB   KB704862 EOG091700KS AARA000005 +                 2734       7480   \n",
       "2 AARAB   KB704862 EOG091706V1 AARA000006 -                10439      11446   \n",
       "3 AARAB   KB704862 EOG091707ZC AARA000007 +                14933      16676   \n",
       "4 AARAB   KB704862 EOG091707FM AARA000008 -                17299      18599   \n",
       "5 AARAB   KB704862 EOG091705PW AARA000009 +                49895      51306   \n",
       "6 AARAB   KB704862 EOG091704YG AARA000010 -                54019      55742   "
      ]
     },
     "metadata": {},
     "output_type": "display_data"
    }
   ],
   "source": [
    "# Reading orthogroups from OG_MRB_S5000_RF0\n",
    "ORTHOGROUPS_ODB9_AUX <- read.table(\"output/files/OG_MRB_S5000_RF0\")\n",
    "ORTHOGROUPS_ODB9 <- data.frame(ORTHOGROUPS_ODB9_AUX$V1, ORTHOGROUPS_ODB9_AUX$V2,ORTHOGROUPS_ODB9_AUX$V3, ORTHOGROUPS_ODB9_AUX$V4, ORTHOGROUPS_ODB9_AUX$V5, ORTHOGROUPS_ODB9_AUX$V6, ORTHOGROUPS_ODB9_AUX$V7)\n",
    "names(ORTHOGROUPS_ODB9) <- c(\"species\",\t\"ctg\",\t\"orthogroup\",\t\"gene\",\t\"gene_orientation\",\t\"start_gene\",\t\"end_gene\")\n",
    "head(ORTHOGROUPS_ODB9)"
   ]
  },
  {
   "cell_type": "code",
   "execution_count": 18,
   "metadata": {},
   "outputs": [],
   "source": [
    "# Creating a vector that contains the 15 potential introgression events\n",
    "EVENTS <- c(\"AARAB 15\", \"AARAB ACOLU\", \"AARAB AGAMB\", \"AGAMB AARAB\", \"AQUAD 15\", \"ACOLU AARAB\", \"ACHRI 24\", \"AQUAD ACOLU\", \"15 AARAB\", \"14 15\", \"AGAMB AQUAD\", \"AQUAD AMERU\", \"AMERU AQUAD\", \"ACOLU AQUAD\", \"AQUAD AGAMB\")\n",
    "\n",
    "# Using the genome of AGAMB for the syntenic reference\n",
    "REF <- rep(\"AGAMB\",length(EVENTS))"
   ]
  },
  {
   "cell_type": "markdown",
   "metadata": {},
   "source": [
    "## Creating data files"
   ]
  },
  {
   "cell_type": "code",
   "execution_count": 34,
   "metadata": {},
   "outputs": [
    {
     "name": "stdout",
     "output_type": "stream",
     "text": [
      "Transfer_AARAB_15_Chrom_AGAMB_run1 ; # transfers from ALE: 5899 ; \n",
      " nonzero freq values mapped to AGAMB chromosome: 6060 \n",
      "Transfer_AARAB_15_Chrom_AGAMB_run2 ; # transfers from ALE: 5899 ; \n",
      " nonzero freq values mapped to AGAMB chromosome: 6060 \n",
      "Transfer_AARAB_ACOLU_Chrom_AGAMB_run1 ; # transfers from ALE: 3504 ; \n",
      " nonzero freq values mapped to AGAMB chromosome: 2924 \n",
      "Transfer_AARAB_ACOLU_Chrom_AGAMB_run2 ; # transfers from ALE: 3504 ; \n",
      " nonzero freq values mapped to AGAMB chromosome: 2924 \n",
      "Transfer_AARAB_AGAMB_Chrom_AGAMB_run1 ; # transfers from ALE: 3509 ; \n",
      " nonzero freq values mapped to AGAMB chromosome: 4033 \n",
      "Transfer_AARAB_AGAMB_Chrom_AGAMB_run2 ; # transfers from ALE: 3509 ; \n",
      " nonzero freq values mapped to AGAMB chromosome: 4033 \n",
      "Transfer_AGAMB_AARAB_Chrom_AGAMB_run1 ; # transfers from ALE: 2792 ; \n",
      " nonzero freq values mapped to AGAMB chromosome: 2949 \n",
      "Transfer_AGAMB_AARAB_Chrom_AGAMB_run2 ; # transfers from ALE: 2792 ; \n",
      " nonzero freq values mapped to AGAMB chromosome: 2949 \n",
      "Transfer_AQUAD_15_Chrom_AGAMB_run1 ; # transfers from ALE: 4530 ; \n",
      " nonzero freq values mapped to AGAMB chromosome: 4768 \n",
      "Transfer_AQUAD_15_Chrom_AGAMB_run2 ; # transfers from ALE: 4530 ; \n",
      " nonzero freq values mapped to AGAMB chromosome: 4768 \n",
      "Transfer_ACOLU_AARAB_Chrom_AGAMB_run1 ; # transfers from ALE: 2804 ; \n",
      " nonzero freq values mapped to AGAMB chromosome: 2738 \n",
      "Transfer_ACOLU_AARAB_Chrom_AGAMB_run2 ; # transfers from ALE: 2804 ; \n",
      " nonzero freq values mapped to AGAMB chromosome: 2738 \n",
      "Transfer_ACHRI_24_Chrom_AGAMB_run1 ; # transfers from ALE: 4014 ; \n",
      " nonzero freq values mapped to AGAMB chromosome: 3772 \n",
      "Transfer_ACHRI_24_Chrom_AGAMB_run2 ; # transfers from ALE: 4014 ; \n",
      " nonzero freq values mapped to AGAMB chromosome: 3772 \n",
      "Transfer_AQUAD_ACOLU_Chrom_AGAMB_run1 ; # transfers from ALE: 2370 ; \n",
      " nonzero freq values mapped to AGAMB chromosome: 1799 \n",
      "Transfer_AQUAD_ACOLU_Chrom_AGAMB_run2 ; # transfers from ALE: 2370 ; \n",
      " nonzero freq values mapped to AGAMB chromosome: 1799 \n",
      "Transfer_15_AARAB_Chrom_AGAMB_run1 ; # transfers from ALE: 3096 ; \n",
      " nonzero freq values mapped to AGAMB chromosome: 3142 \n",
      "Transfer_15_AARAB_Chrom_AGAMB_run2 ; # transfers from ALE: 3096 ; \n",
      " nonzero freq values mapped to AGAMB chromosome: 3142 \n",
      "Transfer_14_15_Chrom_AGAMB_run1 ; # transfers from ALE: 3583 ; \n",
      " nonzero freq values mapped to AGAMB chromosome: 3861 \n",
      "Transfer_14_15_Chrom_AGAMB_run2 ; # transfers from ALE: 3583 ; \n",
      " nonzero freq values mapped to AGAMB chromosome: 3861 \n",
      "Transfer_AGAMB_AQUAD_Chrom_AGAMB_run1 ; # transfers from ALE: 1827 ; \n",
      " nonzero freq values mapped to AGAMB chromosome: 1976 \n",
      "Transfer_AGAMB_AQUAD_Chrom_AGAMB_run2 ; # transfers from ALE: 1827 ; \n",
      " nonzero freq values mapped to AGAMB chromosome: 1976 \n",
      "Transfer_AQUAD_AMERU_Chrom_AGAMB_run1 ; # transfers from ALE: 2838 ; \n",
      " nonzero freq values mapped to AGAMB chromosome: 2595 \n",
      "Transfer_AQUAD_AMERU_Chrom_AGAMB_run2 ; # transfers from ALE: 2838 ; \n",
      " nonzero freq values mapped to AGAMB chromosome: 2595 \n",
      "Transfer_AMERU_AQUAD_Chrom_AGAMB_run1 ; # transfers from ALE: 1821 ; \n",
      " nonzero freq values mapped to AGAMB chromosome: 1779 \n",
      "Transfer_AMERU_AQUAD_Chrom_AGAMB_run2 ; # transfers from ALE: 1821 ; \n",
      " nonzero freq values mapped to AGAMB chromosome: 1779 \n",
      "Transfer_ACOLU_AQUAD_Chrom_AGAMB_run1 ; # transfers from ALE: 1629 ; \n",
      " nonzero freq values mapped to AGAMB chromosome: 1596 \n",
      "Transfer_ACOLU_AQUAD_Chrom_AGAMB_run2 ; # transfers from ALE: 1629 ; \n",
      " nonzero freq values mapped to AGAMB chromosome: 1596 \n",
      "Transfer_AQUAD_AGAMB_Chrom_AGAMB_run1 ; # transfers from ALE: 2626 ; \n",
      " nonzero freq values mapped to AGAMB chromosome: 3074 \n",
      "Transfer_AQUAD_AGAMB_Chrom_AGAMB_run2 ; # transfers from ALE: 2626 ; \n",
      " nonzero freq values mapped to AGAMB chromosome: 3074 \n"
     ]
    }
   ],
   "source": [
    "# Extracting the gene data by event\n",
    "# Input: \n",
    "#    transfer0: event (donor, receptor)\n",
    "#    receptor0: the receptor of the HGT tansfer or its descendant when the receptor is extinct\n",
    "#    run: \"run1\" or \"run2\"\n",
    "# Output: \n",
    "#    csv files for each event listing the gene data used for generating the plots: \n",
    "\n",
    "receptor=REF\n",
    "\n",
    "dataByTransfer <- function(transfer0, receptor, run){\n",
    "donor0 <- strsplit(transfer0, \" \")[[1]][1]  # get the donor from transfer0\n",
    "receptor0 <- strsplit(transfer0, \" \")[[1]][2]  # get the donor from transfer0\n",
    "# extract the chromosome data using receptor0   \n",
    "receptor0chrInfo <- ORTHOGROUPS_ODB9[ORTHOGROUPS_ODB9$species==receptor,]\n",
    "fileName <- paste(\"Transfer\", donor0, strsplit(transfer0, \" \")[[1]][2], \"Chrom\", receptor, run, sep=\"_\")\n",
    "freq0 <- aleTransfer[(aleTransfer$donor == donor0) & (aleTransfer$receptor ==receptor0) & (aleTransfer$run ==run),]    \n",
    "receptor0chrInfo$value <- freq0$freq[(match(receptor0chrInfo$orthogroup, freq0$GF))]    \n",
    "cat(fileName, \"; # transfers from ALE:\", nrow(freq0), \"; \\n nonzero freq values mapped to\", receptor, \"chromosome:\", sum(!is.na(receptor0chrInfo$value)), \"\\n\")        \n",
    "# add the tranfer freq to the chromosome data and save it for each transfer as a csv file        \n",
    "write.csv(receptor0chrInfo, paste(\"output/files/\",fileName,\".csv\",sep=\"\"))\n",
    "}    \n",
    "\n",
    "for(k in 1:length(EVENTS)) \n",
    "    {\n",
    "    dataByTransfer(EVENTS[k], REF[k], \"run1\")\n",
    "    dataByTransfer(EVENTS[k], REF[k], \"run2\")\n",
    "    }"
   ]
  },
  {
   "cell_type": "code",
   "execution_count": 35,
   "metadata": {},
   "outputs": [
    {
     "data": {
      "text/html": [
       "<table>\n",
       "<thead><tr><th scope=col>X</th><th scope=col>species</th><th scope=col>ctg</th><th scope=col>orthogroup</th><th scope=col>gene</th><th scope=col>gene_orientation</th><th scope=col>start_gene</th><th scope=col>end_gene</th><th scope=col>value</th></tr></thead>\n",
       "<tbody>\n",
       "\t<tr><td>57716      </td><td>AGAMB      </td><td>X          </td><td>EOG091700ZD</td><td>AGAP000002 </td><td>-          </td><td>   582     </td><td> 15871     </td><td>NA         </td></tr>\n",
       "\t<tr><td>57717      </td><td>AGAMB      </td><td>X          </td><td>EOG091700G5</td><td>AGAP000007 </td><td>-          </td><td> 84122     </td><td> 88605     </td><td>NA         </td></tr>\n",
       "\t<tr><td>57718      </td><td>AGAMB      </td><td>X          </td><td>EOG091705K9</td><td>AGAP000008 </td><td>+          </td><td> 91254     </td><td> 94031     </td><td>NA         </td></tr>\n",
       "\t<tr><td>57719      </td><td>AGAMB      </td><td>X          </td><td>EOG091700R5</td><td>AGAP000009 </td><td>-          </td><td> 98087     </td><td>114021     </td><td>NA         </td></tr>\n",
       "\t<tr><td>57720      </td><td>AGAMB      </td><td>X          </td><td>EOG0917059T</td><td>AGAP000010 </td><td>-          </td><td>121207     </td><td>123499     </td><td>NA         </td></tr>\n",
       "\t<tr><td>57721      </td><td>AGAMB      </td><td>X          </td><td>EOG091703WU</td><td>AGAP000011 </td><td>-          </td><td>128098     </td><td>133631     </td><td>NA         </td></tr>\n",
       "</tbody>\n",
       "</table>\n"
      ],
      "text/latex": [
       "\\begin{tabular}{r|lllllllll}\n",
       " X & species & ctg & orthogroup & gene & gene\\_orientation & start\\_gene & end\\_gene & value\\\\\n",
       "\\hline\n",
       "\t 57716       & AGAMB       & X           & EOG091700ZD & AGAP000002  & -           &    582      &  15871      & NA         \\\\\n",
       "\t 57717       & AGAMB       & X           & EOG091700G5 & AGAP000007  & -           &  84122      &  88605      & NA         \\\\\n",
       "\t 57718       & AGAMB       & X           & EOG091705K9 & AGAP000008  & +           &  91254      &  94031      & NA         \\\\\n",
       "\t 57719       & AGAMB       & X           & EOG091700R5 & AGAP000009  & -           &  98087      & 114021      & NA         \\\\\n",
       "\t 57720       & AGAMB       & X           & EOG0917059T & AGAP000010  & -           & 121207      & 123499      & NA         \\\\\n",
       "\t 57721       & AGAMB       & X           & EOG091703WU & AGAP000011  & -           & 128098      & 133631      & NA         \\\\\n",
       "\\end{tabular}\n"
      ],
      "text/markdown": [
       "\n",
       "X | species | ctg | orthogroup | gene | gene_orientation | start_gene | end_gene | value | \n",
       "|---|---|---|---|---|---|\n",
       "| 57716       | AGAMB       | X           | EOG091700ZD | AGAP000002  | -           |    582      |  15871      | NA          | \n",
       "| 57717       | AGAMB       | X           | EOG091700G5 | AGAP000007  | -           |  84122      |  88605      | NA          | \n",
       "| 57718       | AGAMB       | X           | EOG091705K9 | AGAP000008  | +           |  91254      |  94031      | NA          | \n",
       "| 57719       | AGAMB       | X           | EOG091700R5 | AGAP000009  | -           |  98087      | 114021      | NA          | \n",
       "| 57720       | AGAMB       | X           | EOG0917059T | AGAP000010  | -           | 121207      | 123499      | NA          | \n",
       "| 57721       | AGAMB       | X           | EOG091703WU | AGAP000011  | -           | 128098      | 133631      | NA          | \n",
       "\n",
       "\n"
      ],
      "text/plain": [
       "  X     species ctg orthogroup  gene       gene_orientation start_gene end_gene\n",
       "1 57716 AGAMB   X   EOG091700ZD AGAP000002 -                   582      15871  \n",
       "2 57717 AGAMB   X   EOG091700G5 AGAP000007 -                 84122      88605  \n",
       "3 57718 AGAMB   X   EOG091705K9 AGAP000008 +                 91254      94031  \n",
       "4 57719 AGAMB   X   EOG091700R5 AGAP000009 -                 98087     114021  \n",
       "5 57720 AGAMB   X   EOG0917059T AGAP000010 -                121207     123499  \n",
       "6 57721 AGAMB   X   EOG091703WU AGAP000011 -                128098     133631  \n",
       "  value\n",
       "1 NA   \n",
       "2 NA   \n",
       "3 NA   \n",
       "4 NA   \n",
       "5 NA   \n",
       "6 NA   "
      ]
     },
     "metadata": {},
     "output_type": "display_data"
    }
   ],
   "source": [
    "# Example.\n",
    "oneTransferDat <- read.csv(\"output/files/Transfer_15_AARAB_Chrom_AGAMB_run1.csv\")\n",
    "head(oneTransferDat)"
   ]
  },
  {
   "cell_type": "markdown",
   "metadata": {},
   "source": [
    "## Chromoplots"
   ]
  },
  {
   "cell_type": "code",
   "execution_count": 36,
   "metadata": {},
   "outputs": [
    {
     "name": "stderr",
     "output_type": "stream",
     "text": [
      "Loading required package: zoo\n",
      "\n",
      "Attaching package: ‘zoo’\n",
      "\n",
      "The following objects are masked from ‘package:base’:\n",
      "\n",
      "    as.Date, as.Date.numeric\n",
      "\n"
     ]
    }
   ],
   "source": [
    "# Creating the chromoplots\n",
    "\n",
    "library(ggplot2)\n",
    "require(zoo)\n",
    "\n",
    "##### STEP 1. Write a function to take the test of proportion in sliding window ####################################\n",
    "# Input:\n",
    "#    transfer0: HGT transfer (donor, receptor)\n",
    "#    receptor0: the receptor of the HGT tansfer or its descendant when the receptor is extinct\n",
    "#    run: \"run1\" or \"run2\"\n",
    "#    threshold : 0.25\n",
    "#    significance_level: 0.05\n",
    "#    window_width: 30\n",
    "#    by_width: 30\n",
    "#    method: BY\n",
    "# Output:\n",
    "#    \"chromoplotImages/Mapped_gene_regions.../~\" : Plot of p-values and FDR + Mapped gene regions plot\n",
    "#    \"chromoplotData/SignificantGeneRegion.../~\": Extract gene regions that are significant (where p_value <= FDR cutoff)\n",
    "#    \"chromoplotData/AdjustPvalueForEachTransfer.../\": contains (donor, receptor, chromosome, gene name, p_values) for each run\n",
    "\n",
    "\n",
    "generateTestingThreshold <- function(transfer0, receptor0, run, threshold, significance_level, window_width, by_width, method){\n",
    "  donor0 <- strsplit(transfer0, \" \")[[1]][1]  # get the donor from transfer0\n",
    "  fileName <- paste(\"Transfer\", donor0, strsplit(transfer0, \" \")[[1]][2], \"Chrom\", receptor0,run, sep=\"_\")\n",
    "  receptor0chrInfo <- read.csv(paste(\"output/files/\",fileName,\".csv\",sep=\"\"))\n",
    "  remove <- c(\"UNKN\", \"Mt\")\n",
    "  uniqueCtg <- unique(receptor0chrInfo$ctg)[- which(unique(receptor0chrInfo$ctg) %in% remove)] # Ingore the chromosome named \"UNKN\" and \"Mt\"\n",
    "  \n",
    "  folderName <- paste(\"output/images/Mapped_gene_regions_and_P-values_\",threshold, \"_significance_level\",significance_level, \"_\",method, \"_(\", window_width, \",\", by_width,\")\", sep=\"\")\n",
    "  ifelse(!dir.exists(folderName), dir.create(folderName), FALSE)\n",
    "  pdf(paste(\"output/images/Mapped_gene_regions_and_P-values_\",threshold,\"_significance_level\",significance_level,\"_\",method, \"_(\", window_width, \",\", by_width,\")\",\"/\", fileName,\".pdf\", sep=\"\"), width=8, height=3, onefile=TRUE) \n",
    "  \n",
    "  # Generate Dataset : Donor, Receptor, Run, Chromosome, Cutoff\n",
    "  df <- data.frame(Donor = character(),\n",
    "                   Receptor = character(),\n",
    "                   Run = character(),\n",
    "                   Chromosome = factor(),\n",
    "                   Cutoff = numeric(),\n",
    "                   stringsAsFactors=FALSE)\n",
    "  bedgraph_data <- receptor0chrInfo[, c(\"ctg\", \"orthogroup\", \"gene\", \"start_gene\", \"end_gene\", \"value\")]\n",
    "  values <- bedgraph_data$value \n",
    "  values[is.na(values)] <- 0\n",
    "  values <- values[match(unique(bedgraph_data$orthogroup),bedgraph_data$orthogroup)]\n",
    "  p_0 <- mean(values)\n",
    "  #  print(p_0)\n",
    "  for (i in 1:length(uniqueCtg)){\n",
    "    chromoname <- uniqueCtg[i]\n",
    "    chromosome_subdata <- bedgraph_data[bedgraph_data$ctg==chromoname,]\n",
    "    chromosome_subdata <- chromosome_subdata[match(unique(chromosome_subdata$orthogroup),chromosome_subdata$orthogroup), ]\n",
    "    chromosome_subdata$value[is.na(chromosome_subdata$value)] <- 0\n",
    "    sortLocation <- sort(chromosome_subdata$start_gene, index.return =TRUE)\n",
    "    chromosome_subdata <- chromosome_subdata[sortLocation$ix,]\n",
    "    chromosome_subdata$value[chromosome_subdata$value<threshold] <- 0\n",
    "    if(sum(chromosome_subdata$value,na.rm=TRUE) > 0){\n",
    "      p_hat <- rollapply(zoo(chromosome_subdata$value), width = window_width, by = by_width, FUN = mean,  align = \"left\")\n",
    "      z <- (p_hat - p_0)/sqrt(p_0*(1-p_0)/(1000*window_width)) # test statistic\n",
    "      p_value <- (1-pnorm(z,0,1))\n",
    "      p_value <- fortify(p_value)$p_value\n",
    "      # Calculate \"cutoff\" value using FDR control under general dependency (\"Benjamini & Yekutieli procedure\")\n",
    "      m <- length(p_value)\n",
    "      g = seq(along=p_value)\n",
    "      adjust_p_value <- p.adjust(p_value, method) # adjusted p-values for the BH method\n",
    "      cutoff <- significance_level\n",
    "      adjust_p_value_subdata <- list()\n",
    "      adjust_p_value_subdata_index <- c(1, 1+c(1:length(adjust_p_value))*by_width)\n",
    "      for (l in 1:length(adjust_p_value_subdata_index)){\n",
    "        adjust_p_value_subdata[[paste0(\"Window_Starting_Position_\", adjust_p_value_subdata_index[l])]] <- data.frame(chromosome_subdata[adjust_p_value_subdata_index[l]:(adjust_p_value_subdata_index[l]+window_width-1),], adjust_p_value[l])    \n",
    "      }\n",
    "      ifelse(!dir.exists(paste(\"output/files/AdjustPvalueForEachTransfer_\", threshold,\"_significance_level\",significance_level, \"_\", method,\"_(\", window_width, \",\", by_width,\")\", sep=\"\")), \n",
    "             dir.create(paste(\"output/files/AdjustPvalueForEachTransfer_\", threshold,\"_significance_level\",significance_level,\"_\", method,\"_(\", window_width, \",\", by_width,\")\",sep=\"\")), FALSE)\n",
    "      suppressWarnings(invisible(lapply(adjust_p_value_subdata, function(x) write.table(data.frame(x), file = paste(\"output/files/AdjustPvalueForEachTransfer_\", threshold,\"_significance_level\",significance_level, \"_\", method,\"_(\", window_width, \",\", by_width,\")\", \"/\", fileName,\"_\", chromoname, \".txt\", sep =\"\"), append= T, sep=',', quote = FALSE, row.names = FALSE))))\n",
    "      # Generate data to draw p-values over mapped gene regions\n",
    "      x <- c()\n",
    "      y <- c()\n",
    "      l0 <- c()\n",
    "      l1 <- c()\n",
    "      for (p in 1:m){\n",
    "        for(h in 1:window_width){       \n",
    "          y <- c(y, adjust_p_value[p])\n",
    "          l0 <- c(l0, chromosome_subdata$start_gene[(p-1)*by_width+h])\n",
    "          l1 <- c(l1, chromosome_subdata$end_gene[(p-1)*by_width+h])\n",
    "        }\n",
    "      }\n",
    "      p_value_data <- data.frame(y, l0, l1)\n",
    "      par(mfrow=c(2,1))\n",
    "      #3. Draw mapped gene regions for AGAMB chromosome \"3R\" combined with p-value in each window\n",
    "      print(ggplot(data=chromosome_subdata) + #ylim(0,1)+\n",
    "              # mapped gene regions\n",
    "              geom_rect(mapping=aes(ymin=0, ymax=chromosome_subdata$value, xmin=chromosome_subdata$start_gene, \n",
    "                                    xmax=chromosome_subdata$end_gene),color = \"blue\") + \n",
    "              expand_limits(x=1000000, y=0.5) +\n",
    "              facet_grid(ctg~., switch=\"y\") +\n",
    "              #facet_grid(ctg~.) +\n",
    "              labs(x=\"Gene Region (bp)\", y=\"Frequecy Value / p-value\", title=paste(\"Chromosome\", chromoname, \" \",  \"p0 =\", round(p_0,4))) +\n",
    "              theme(plot.title = element_text(hjust = 0.5)) +\n",
    "              scale_fill_manual(values = c(\"lightblue\"), labels=c(paste(\"Freq.Value >=\",threshold))) +\n",
    "              guides(fill=guide_legend(\"Indicator\")) + theme(legend.position=\"top\") +\n",
    "              # p-values\n",
    "              geom_rect(data=p_value_data,mapping=aes(ymin=y, ymax=y, xmin=l0,  xmax=l1),color = \"darkgreen\",size=1.5) +\n",
    "              # cutoff\n",
    "              geom_hline(yintercept=cutoff, linetype=\"dashed\", color = \"red\", size=0.8))\n",
    "      \n",
    "      # Return the significant gene region\n",
    "      index <- intersect(which(p_hat >= p_0), which(adjust_p_value <= cutoff))\n",
    "      sign_gene_region <- list()\n",
    "      for (j in index){sign_gene_region[[paste0(\"Window_Starting_Position_\", adjust_p_value_subdata_index[j])]] <- \n",
    "        data.frame(chromosome_subdata[adjust_p_value_subdata_index[j]:(adjust_p_value_subdata_index[j]+window_width-1),], adjust_p_value[j])}\n",
    "      ifelse(!dir.exists(paste(\"output/files/SignificantGeneRegion_\",threshold,\"_significance_level\",significance_level,\"_\", method,\"_(\", window_width, \",\", by_width,\")\", sep=\"\")), \n",
    "             dir.create(paste(\"output/files/SignificantGeneRegion_\",threshold, \"_significance_level\",significance_level,\"_\", method,\"_(\", window_width, \",\", by_width,\")\", sep=\"\")), FALSE)\n",
    "      suppressWarnings(invisible(lapply(sign_gene_region, function(x) write.table(data.frame(x), file = paste(\"output/files//SignificantGeneRegion_\", threshold,\"_significance_level\",significance_level, \"_\", method, \"_(\", window_width, \",\", by_width,\")\",\"/\", fileName,\"_\", chromoname, \".txt\", sep =\"\"), append= T, sep=',', quote = FALSE, row.names = FALSE))))\n",
    "      \n",
    "      # add cutoff to a data frame \n",
    "      subdataset <- data.frame(donor0, receptor0, run, chromoname, cutoff)\n",
    "      df <- rbind(df, subdataset)\n",
    "    }\n",
    "  }     \n",
    "  dev.off()\n",
    "}"
   ]
  },
  {
   "cell_type": "code",
   "execution_count": 37,
   "metadata": {},
   "outputs": [],
   "source": [
    "##### STEP 2. Setting variables that can be changed ################################################################\n",
    "threshold = 0.25\n",
    "significance_level = c(0.01,0.05)\n",
    "window_width = c(10,20,30)\n",
    "by_width = c(10,20,30)\n",
    "method = \"BY\"\n",
    "\n",
    "####STEP 3. Run for loop to apply function above#######################################################################\n",
    "for(i in 1:length(significance_level))\n",
    "for(j in 1:length(window_width))\n",
    "for(k in 1:length(transfer)) {\n",
    "  generateTestingThreshold(EVENTS[k], REF[k], \"run1\", threshold, significance_level[i], window_width[j], by_width[j], method)\n",
    "  generateTestingThreshold(EVENTS[k], REF[k], \"run2\", threshold, significance_level[i], window_width[j], by_width[j], method)\n",
    "}\n"
   ]
  }
 ],
 "metadata": {
  "kernelspec": {
   "display_name": "R",
   "language": "R",
   "name": "ir"
  },
  "language_info": {
   "codemirror_mode": "r",
   "file_extension": ".r",
   "mimetype": "text/x-r-source",
   "name": "R",
   "pygments_lexer": "r",
   "version": "3.4.3"
  }
 },
 "nbformat": 4,
 "nbformat_minor": 2
}
